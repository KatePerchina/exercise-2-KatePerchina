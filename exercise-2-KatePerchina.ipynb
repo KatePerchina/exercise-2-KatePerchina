{
  "metadata": {
    "language_info": {
      "codemirror_mode": {
        "name": "python",
        "version": 3
      },
      "file_extension": ".py",
      "mimetype": "text/x-python",
      "name": "python",
      "nbconvert_exporter": "python",
      "pygments_lexer": "ipython3",
      "version": "3.8"
    },
    "kernelspec": {
      "name": "python",
      "display_name": "Python (Pyodide)",
      "language": "python"
    }
  },
  "nbformat_minor": 4,
  "nbformat": 4,
  "cells": [
    {
      "cell_type": "code",
      "source": "# Create the lists below\nstation_names = [\n    \"lighthouse\",\n    \"Harmaja\",\n    \"Suomenlinna aaltopoiju\",\n    \"Kumpula\",\n    \"Kaisaniemi\"]\nstation_start_years = [\n    2003,\n    1989,\n    2016,\n    2005,\n    1844]\n    ",
      "metadata": {
        "trusted": true
      },
      "execution_count": 52,
      "outputs": []
    },
    {
      "cell_type": "code",
      "source": "print (station_names)",
      "metadata": {
        "trusted": true
      },
      "execution_count": 53,
      "outputs": [
        {
          "name": "stdout",
          "text": "['lighthouse', 'Harmaja', 'Suomenlinna aaltopoiju', 'Kumpula', 'Kaisaniemi']\n",
          "output_type": "stream"
        }
      ]
    },
    {
      "cell_type": "code",
      "source": "print (station_start_years)",
      "metadata": {
        "trusted": true
      },
      "execution_count": 54,
      "outputs": [
        {
          "name": "stdout",
          "text": "[2003, 1989, 2016, 2005, 1844]\n",
          "output_type": "stream"
        }
      ]
    },
    {
      "cell_type": "code",
      "source": "# This is a test cell that checks that the list lengths are correct\n# Running this cell should not produce any errors\nassert len(station_names) == 5, 'The station_names list should have 5 items.'\nassert len(station_start_years) == 5, 'The station_start_years list should have 5 items.'",
      "metadata": {
        "trusted": true
      },
      "execution_count": 55,
      "outputs": []
    },
    {
      "cell_type": "code",
      "source": "# This is a test cell that checks that the first item in the lists is correct\n# Running this cell should not produce any errors\nassert station_names[0] == 'lighthouse', 'The first item in the station_names list should be \"lighthouse\"'\nassert station_start_years[0] == 2003, 'The first item in the station_start_years list should be 2003'",
      "metadata": {
        "trusted": true
      },
      "execution_count": 56,
      "outputs": []
    },
    {
      "cell_type": "code",
      "source": "more_station_names = [\n    \"Malmi airfield\",\n    \"Vuosaari harbour\",\n    \"Kaivopuisto\"]",
      "metadata": {
        "trusted": true
      },
      "execution_count": 57,
      "outputs": []
    },
    {
      "cell_type": "code",
      "source": "station_names = station_names + more_station_names",
      "metadata": {
        "trusted": true
      },
      "execution_count": 58,
      "outputs": []
    },
    {
      "cell_type": "code",
      "source": "more_station_start_years = [\n    1937,\n    2012,\n    1904]",
      "metadata": {
        "trusted": true
      },
      "execution_count": 59,
      "outputs": []
    },
    {
      "cell_type": "code",
      "source": "station_start_years = station_start_years + more_station_start_years",
      "metadata": {
        "trusted": true
      },
      "execution_count": 60,
      "outputs": []
    },
    {
      "cell_type": "code",
      "source": "# This is a test cell that checks that the list lengths are correct\n# Running this cell should not produce any errors\nassert len(station_names) == 8, 'The station_names list should have 8 items.'\nassert len(station_start_years) == 8, 'The station_start_years list should have 8 items.'",
      "metadata": {
        "trusted": true
      },
      "execution_count": 61,
      "outputs": []
    },
    {
      "cell_type": "code",
      "source": "# This is a test cell that checks that the last item in the lists is correct\n# Running this cell should not produce any errors\nassert station_names[-1] == 'Kaivopuisto', 'The last item in the station_names list should be \"Kaivopuisto\"'\nassert station_start_years[-1] == 1904, 'The last item in the station_start_years list should be 1904'",
      "metadata": {
        "trusted": true
      },
      "execution_count": 62,
      "outputs": []
    },
    {
      "cell_type": "code",
      "source": "print (station_names, station_start_years)",
      "metadata": {
        "trusted": true
      },
      "execution_count": 63,
      "outputs": [
        {
          "name": "stdout",
          "text": "['lighthouse', 'Harmaja', 'Suomenlinna aaltopoiju', 'Kumpula', 'Kaisaniemi', 'Malmi airfield', 'Vuosaari harbour', 'Kaivopuisto'] [2003, 1989, 2016, 2005, 1844, 1937, 2012, 1904]\n",
          "output_type": "stream"
        }
      ]
    },
    {
      "cell_type": "code",
      "source": "station_names.sort ()",
      "metadata": {
        "trusted": true
      },
      "execution_count": 64,
      "outputs": []
    },
    {
      "cell_type": "code",
      "source": "print( station_names)",
      "metadata": {
        "trusted": true
      },
      "execution_count": 65,
      "outputs": [
        {
          "name": "stdout",
          "text": "['Harmaja', 'Kaisaniemi', 'Kaivopuisto', 'Kumpula', 'Malmi airfield', 'Suomenlinna aaltopoiju', 'Vuosaari harbour', 'lighthouse']\n",
          "output_type": "stream"
        }
      ]
    },
    {
      "cell_type": "code",
      "source": "station_start_years.sort ()",
      "metadata": {
        "trusted": true
      },
      "execution_count": 66,
      "outputs": []
    },
    {
      "cell_type": "code",
      "source": "print (station_names, station_start_years)",
      "metadata": {
        "trusted": true
      },
      "execution_count": 67,
      "outputs": [
        {
          "name": "stdout",
          "text": "['Harmaja', 'Kaisaniemi', 'Kaivopuisto', 'Kumpula', 'Malmi airfield', 'Suomenlinna aaltopoiju', 'Vuosaari harbour', 'lighthouse'] [1844, 1904, 1937, 1989, 2003, 2005, 2012, 2016]\n",
          "output_type": "stream"
        }
      ]
    },
    {
      "cell_type": "code",
      "source": "# This is a test cell that checks that the last item in the lists is correct\n# Running this cell should not produce any errors\nassert station_names[0] == 'Harmaja', 'The first item in the station_names list should be \"Harmaja\"'\nassert station_start_years[0] == 2016, 'The first item in the station_start_years list should be 2016'",
      "metadata": {
        "trusted": true
      },
      "execution_count": 27,
      "outputs": []
    },
    {
      "cell_type": "code",
      "source": "station_start_years.reverse ()",
      "metadata": {
        "trusted": true
      },
      "execution_count": 68,
      "outputs": []
    },
    {
      "cell_type": "code",
      "source": "# Default Sorting from ascending to desending order, where assert expects first item to be 2016. I reversed array. ",
      "metadata": {
        "trusted": true
      },
      "execution_count": 28,
      "outputs": []
    },
    {
      "cell_type": "code",
      "source": "station_start_years_str = str(station_start_years)",
      "metadata": {
        "trusted": true
      },
      "execution_count": 69,
      "outputs": []
    },
    {
      "cell_type": "code",
      "source": "print (station_names, station_start_years)",
      "metadata": {
        "trusted": true
      },
      "execution_count": 70,
      "outputs": [
        {
          "name": "stdout",
          "text": "['Harmaja', 'Kaisaniemi', 'Kaivopuisto', 'Kumpula', 'Malmi airfield', 'Suomenlinna aaltopoiju', 'Vuosaari harbour', 'lighthouse'] [2016, 2012, 2005, 2003, 1989, 1937, 1904, 1844]\n",
          "output_type": "stream"
        }
      ]
    },
    {
      "cell_type": "code",
      "source": "type (station_names)\ntype (station_start_years)",
      "metadata": {
        "trusted": true
      },
      "execution_count": 73,
      "outputs": [
        {
          "execution_count": 73,
          "output_type": "execute_result",
          "data": {
            "text/plain": "list"
          },
          "metadata": {}
        }
      ]
    },
    {
      "cell_type": "code",
      "source": "station_names_and_years = zip (station_names, station_start_years)",
      "metadata": {
        "trusted": true
      },
      "execution_count": 74,
      "outputs": []
    },
    {
      "cell_type": "code",
      "source": "print (list(station_names_and_years))",
      "metadata": {
        "trusted": true
      },
      "execution_count": 76,
      "outputs": [
        {
          "name": "stdout",
          "text": "[('Harmaja', 2016), ('Kaisaniemi', 2012), ('Kaivopuisto', 2005), ('Kumpula', 2003), ('Malmi airfield', 1989), ('Suomenlinna aaltopoiju', 1937), ('Vuosaari harbour', 1904), ('lighthouse', 1844)]\n",
          "output_type": "stream"
        }
      ]
    },
    {
      "cell_type": "code",
      "source": "",
      "metadata": {},
      "execution_count": null,
      "outputs": []
    }
  ]
}